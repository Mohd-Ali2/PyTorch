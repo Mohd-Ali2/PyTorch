{
  "nbformat": 4,
  "nbformat_minor": 0,
  "metadata": {
    "colab": {
      "provenance": [],
      "authorship_tag": "ABX9TyPjk0kzAnkUtwXtu3zWJ0RD",
      "include_colab_link": true
    },
    "kernelspec": {
      "name": "python3",
      "display_name": "Python 3"
    },
    "language_info": {
      "name": "python"
    }
  },
  "cells": [
    {
      "cell_type": "markdown",
      "metadata": {
        "id": "view-in-github",
        "colab_type": "text"
      },
      "source": [
        "<a href=\"https://colab.research.google.com/github/Mohd-Ali2/PyTorch/blob/master/Neural_Network_from_scratch.ipynb\" target=\"_parent\"><img src=\"https://colab.research.google.com/assets/colab-badge.svg\" alt=\"Open In Colab\"/></a>"
      ]
    },
    {
      "cell_type": "code",
      "execution_count": 16,
      "metadata": {
        "id": "0eKRXDQUQOyL"
      },
      "outputs": [],
      "source": [
        "import torch\n",
        "import torch.nn as nn\n",
        "import torch.optim as optim\n",
        "import torch.nn.functional as F"
      ]
    },
    {
      "cell_type": "code",
      "source": [
        "class SimpleNeuralNetwork(nn.Module):\n",
        "  def __init__(self, input_size, hidden_size, output_size):\n",
        "    super(SimpleNeuralNetwork, self).__init__()\n",
        "\n",
        "    # First Hidden layer (fully connected layer)\n",
        "    self.fc1 = nn.Linear(input_size, hidden_size)\n",
        "\n",
        "    # Second Hidden layer (fully connected layer)\n",
        "    self.fc2 = nn.Linear(hidden_size, hidden_size)\n",
        "\n",
        "    # Output layer\n",
        "    self.fc3 = nn.Linear(hidden_size, output_size)\n",
        "\n",
        "    # FeedForward\n",
        "  def forward(self, x):\n",
        "\n",
        "    # Applying Activation function after each layer\n",
        "    x = F.relu(self.fc1(x))\n",
        "\n",
        "    # Second layer with ReLU activation\n",
        "    x = F.relu(self.fc2(x))\n",
        "\n",
        "    # Output layer (No activation if it's a regression problem, otherwise use Softmax for classification)\n",
        "    x = self.fc3(x)\n",
        "    return x\n"
      ],
      "metadata": {
        "id": "7SSyU4neQWpd"
      },
      "execution_count": 17,
      "outputs": []
    },
    {
      "cell_type": "code",
      "source": [
        "# Set device (Use GPU if available, otherwise CPU)\n",
        "device = torch.device('cuda' if torch.cuda.is_available() else 'cpu')"
      ],
      "metadata": {
        "id": "BUSkcI6BTF7S"
      },
      "execution_count": 18,
      "outputs": []
    },
    {
      "cell_type": "code",
      "source": [
        "# Define the model parameters\n",
        "\n",
        "# 10 input features\n",
        "input_size = 10\n",
        "\n",
        "# Hidden layers neurons\n",
        "hidden_size = 32\n",
        "\n",
        "# Output neurons for regression it's 1, for classification it's number of classes\n",
        "output_size = 1\n"
      ],
      "metadata": {
        "id": "mI-m22pBTeM_"
      },
      "execution_count": 19,
      "outputs": []
    },
    {
      "cell_type": "code",
      "source": [
        "# Initialize model and move it to the device if available\n",
        "model = SimpleNeuralNetwork(input_size, hidden_size, output_size).to(device)"
      ],
      "metadata": {
        "id": "BT5wkYCuUNM-"
      },
      "execution_count": 20,
      "outputs": []
    },
    {
      "cell_type": "code",
      "source": [
        "# Define the LOSS function (MSE for regression, CrossEntropy for classificaion)\n",
        "criterion = nn.MSELoss()"
      ],
      "metadata": {
        "id": "2msoZT7BUojD"
      },
      "execution_count": 21,
      "outputs": []
    },
    {
      "cell_type": "code",
      "source": [
        "# Define the optimizer (SDG, Adam, etc)\n",
        "optimizer = optim.Adam(model.parameters(), lr=0.01)"
      ],
      "metadata": {
        "id": "hRQZYBcKVIGD"
      },
      "execution_count": 22,
      "outputs": []
    },
    {
      "cell_type": "code",
      "source": [
        "# Training Loop\n",
        "num_epochs = 50\n",
        "for epoch in range(num_epochs):\n",
        "  model.train() # set model to traning mode\n",
        "\n",
        "  # Generate dummy data (replace with actual dataset)\n",
        "\n",
        "  inputs = torch.randn(64, input_size) # 64 samples, each with 'input_size' features\n",
        "  targets = torch.randn(64, output_size) # 64 target values\n",
        "\n",
        "  # Forward pass\n",
        "  outputs = model(inputs)\n",
        "  loss = criterion(outputs, targets)\n",
        "\n",
        "  # Backward pass\n",
        "  optimizer.zero_grad() # zero gradients from previous step\n",
        "  loss.backward() # Compute gradients\n",
        "  optimizer.step() # Update weights\n",
        "\n",
        "  # Print loss every 10 epochs\n",
        "  if epoch % 10 == 0:\n",
        "    print(f'Epoch [{epoch}/{num_epochs}], Loss: {loss.item():.4f}')\n",
        "\n",
        "print(\"Training Completed\")"
      ],
      "metadata": {
        "colab": {
          "base_uri": "https://localhost:8080/"
        },
        "id": "wzG2gzMeVWrd",
        "outputId": "652f4633-c498-4833-e4b9-6892535bbac1"
      },
      "execution_count": 23,
      "outputs": [
        {
          "output_type": "stream",
          "name": "stdout",
          "text": [
            "Epoch [0/50], Loss: 0.9541\n",
            "Epoch [10/50], Loss: 0.7821\n",
            "Epoch [20/50], Loss: 0.8920\n",
            "Epoch [30/50], Loss: 0.9100\n",
            "Epoch [40/50], Loss: 0.7773\n",
            "Training Completed\n"
          ]
        }
      ]
    },
    {
      "cell_type": "code",
      "source": [],
      "metadata": {
        "id": "fN38C0VLXdj9"
      },
      "execution_count": 23,
      "outputs": []
    }
  ]
}